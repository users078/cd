{
 "cells": [
  {
   "cell_type": "code",
   "execution_count": 1,
   "id": "51f4252c",
   "metadata": {},
   "outputs": [
    {
     "name": "stdout",
     "output_type": "stream",
     "text": [
      "Enter total number of leaf nodes: 4\n",
      "Enter leaf node value: 3\n",
      "Enter leaf node value: 5\n",
      "Enter leaf node value: 2\n",
      "Enter leaf node value: 9\n",
      "Enter current node depth: 0\n",
      "Enter node value: 0\n",
      "The answer is:  3\n"
     ]
    }
   ],
   "source": [
    "import math\n",
    "\n",
    "def minMax(score, total_depth, current_depth, node, maxT):\n",
    "    if current_depth == total_depth:\n",
    "        return score[node]\n",
    "    \n",
    "    if maxT:\n",
    "        return max(minMax(score, total_depth, current_depth + 1, node * 2, False),\n",
    "                   minMax(score, total_depth, current_depth + 1, node * 2 + 1, False))\n",
    "    else:\n",
    "        return min(minMax(score, total_depth, current_depth + 1, node * 2, True),\n",
    "                   minMax(score, total_depth, current_depth + 1, node * 2 + 1, True))\n",
    "\n",
    "score = []\n",
    "x = int(input(\"Enter total number of leaf nodes: \"))\n",
    "\n",
    "for i in range(x):\n",
    "    y = int(input(\"Enter leaf node value: \"))\n",
    "    score.append(y)\n",
    "\n",
    "total_depth = math.log2(len(score))\n",
    "current_depth = int(input(\"Enter current node depth: \"))\n",
    "node = int(input(\"Enter node value: \"))\n",
    "\n",
    "maxT = True \n",
    "\n",
    "print(\"The answer is: \", end=\" \")\n",
    "answer = minMax(score, total_depth, current_depth, node, maxT)\n",
    "print(answer)"
   ]
  },
  {
   "cell_type": "code",
   "execution_count": null,
   "id": "86458719",
   "metadata": {},
   "outputs": [],
   "source": []
  }
 ],
 "metadata": {
  "kernelspec": {
   "display_name": "Python 3 (ipykernel)",
   "language": "python",
   "name": "python3"
  },
  "language_info": {
   "codemirror_mode": {
    "name": "ipython",
    "version": 3
   },
   "file_extension": ".py",
   "mimetype": "text/x-python",
   "name": "python",
   "nbconvert_exporter": "python",
   "pygments_lexer": "ipython3",
   "version": "3.9.13"
  }
 },
 "nbformat": 4,
 "nbformat_minor": 5
}
